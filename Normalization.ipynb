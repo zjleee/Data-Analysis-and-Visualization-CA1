{
 "cells": [
  {
   "cell_type": "markdown",
   "metadata": {},
   "source": [
    "We use Z-Score Standardization to scale our data "
   ]
  },
  {
   "cell_type": "code",
   "execution_count": 10,
   "metadata": {},
   "outputs": [
    {
     "name": "stdout",
     "output_type": "stream",
     "text": [
      "               Internet_Users_Pct  Fixed_Broadband_per_100  R&D_Expenditure_Pct_GDP  Mobile_Cellular_per_100  High_Technology_Exports_USD  ICT_Graduates_Pct  Problem_Solving_Tech_Level3_Pct  B2C_Index_2020  DAI_Overall  DAI_Business  DAI_People   DAI_Gov\n",
      "Country Name                                                                                                                                                                                                                                                  \n",
      "United States           -0.140575                 0.210816                 1.069450                -0.863663                     2.244790          -0.516384                        -0.177795        0.431718    -0.208791     -0.802425   -0.267266  0.225745\n",
      "Denmark                  1.323302                 1.262288                 0.490707                 0.214851                    -0.412011          -0.093020                         0.366061        0.942558     0.425243      1.333502    1.691865 -1.039417\n",
      "Greece                  -2.451960                 0.989722                -0.677685                -0.936295                    -0.589015          -1.396868                        -1.327409       -1.290544    -2.251785     -1.902778   -0.850567 -2.035157\n",
      "Chile                    0.193291                -1.899268                -0.762328                 0.754408                    -0.610905          -1.677505                        -1.504272       -2.866852    -0.078332     -0.249758   -2.270140  1.425387\n",
      "Lithuania               -1.296268                -1.046295                -1.037690                 1.043505                    -0.577655          -0.526961                        -1.521959       -0.794299     0.457506     -0.493227   -0.015555  0.947919\n",
      "Israel                  -0.217622                -0.982825                 3.093380                 1.904946                    -0.347634           0.714050                         0.383748       -0.604558     0.377725     -0.923696   -0.160042  1.119379\n",
      "Poland                  -1.501724                -1.747218                -0.704413                 0.570020                    -0.201029          -0.995250                        -0.734915       -0.852681    -1.027129     -1.192989   -0.815111 -0.505962\n",
      "Austria                  0.218973                -0.973274                 0.748559                 0.009816                    -0.278945          -0.355285                        -0.518257        0.110618     1.451241      0.693219    1.316922  1.080074\n",
      "Australia                1.092163                 0.079660                -0.762328                -1.070063                    -0.514552           0.213648                         0.299737        0.373336    -0.711867     -0.946987    0.282417 -0.826869\n",
      "Estonia                 -0.320350                 0.293215                -0.431379                 2.089785                    -0.596948           2.398637                        -0.522679        0.402527     1.028843      0.218442    0.550076  1.136035\n",
      "Finland                  0.064881                -0.247527                 0.552415                 0.355316                    -0.552232           1.421476                         1.259223        0.782008     0.652314      1.407625    0.908026 -0.231501\n",
      "Ireland                  0.989435                -0.643161                -1.113016                -0.658903                     0.749787           1.511524                        -1.044427        0.782008    -1.480949     -0.096241   -1.247095 -1.451992\n",
      "Norway                   1.605804                 1.382861                -0.618157                -0.829932                    -0.551668          -0.162263                         0.251100        0.665245     0.613241      0.773102    0.674925  0.154893\n",
      "Germany                 -0.294668                 1.232876                 0.691893                 0.127677                     3.029286          -0.219230                         0.573876        0.782008     1.124034      0.561281    0.310734  1.271195\n",
      "Sweden                   0.578522                 0.657932                 0.921371                 0.117539                    -0.278907           0.601741                         1.444930        0.402527     1.008816      1.694111    1.190262  0.004852\n",
      "New Zealand              0.886707                 0.040612                -0.762328                -0.565879                    -0.619515           0.494316                         2.063953        0.548481    -0.798781     -1.013171    0.391827 -0.998329\n",
      "Slovenia                -0.988083                -0.575159                -0.170840                 0.190788                    -0.573058          -0.679209                        -0.792396       -1.348926    -0.672358      0.422506   -1.434187 -0.333599\n",
      "Canada                   0.321702                 0.883059                -0.489934                -2.110244                    -0.163769           0.152721                         0.715367        0.402527    -1.015226     -0.699866   -0.757133 -0.757214\n",
      "Netherlands             -0.063529                 1.081686                -0.037675                -0.343671                     0.843979          -0.886138                         0.786113        1.132299     1.106254      1.217348    0.500043  0.814560\n"
     ]
    }
   ],
   "source": [
    "import pandas as pd\n",
    "from sklearn.preprocessing import StandardScaler\n",
    "\n",
    "# Step 1: Load the dataset\n",
    "df = pd.read_csv(\"final_tech_adoption_index_data.csv\", index_col=0)\n",
    "\n",
    "# Step 2: Initialize the StandardScaler\n",
    "scaler = StandardScaler()\n",
    "\n",
    "# Step 3: Fit and transform the data\n",
    "zscore_scaled = scaler.fit_transform(df)\n",
    "\n",
    "# Step 4: Convert the result back to a DataFrame\n",
    "df_zscore = pd.DataFrame(zscore_scaled, columns=df.columns, index=df.index)\n",
    "\n",
    "# Step 5: Preview the result\n",
    "print(df_zscore.to_string())\n",
    "\n",
    "# Optional: Save the standardized data\n",
    "df_zscore.to_csv(\"tech_adoption_zscore.csv\")\n"
   ]
  },
  {
   "cell_type": "markdown",
   "metadata": {},
   "source": [
    "Check for outliers"
   ]
  },
  {
   "cell_type": "code",
   "execution_count": 12,
   "metadata": {},
   "outputs": [
    {
     "name": "stdout",
     "output_type": "stream",
     "text": [
      "   Country                      Feature   Z-Score\n",
      "0   Israel      R&D_Expenditure_Pct_GDP  3.093380\n",
      "1  Germany  High_Technology_Exports_USD  3.029286\n"
     ]
    }
   ],
   "source": [
    "import pandas as pd\n",
    "import numpy as np\n",
    "from sklearn.preprocessing import StandardScaler\n",
    "\n",
    "# Step 1: Load the dataset\n",
    "df = pd.read_csv(\"final_tech_adoption_index_data.csv\", index_col=0)\n",
    "\n",
    "# Step 2: Standardize using Z-score\n",
    "scaler = StandardScaler()\n",
    "df_zscore = pd.DataFrame(scaler.fit_transform(df), columns=df.columns, index=df.index)\n",
    "\n",
    "# Step 3: Identify outliers (|Z| > 3)\n",
    "outlier_mask = df_zscore.abs() > 3\n",
    "outlier_values = df_zscore[outlier_mask]\n",
    "\n",
    "# Step 4: Flatten the DataFrame to show only outlier values\n",
    "outlier_data_only = outlier_values.stack().reset_index()\n",
    "outlier_data_only.columns = [\"Country\", \"Feature\", \"Z-Score\"]\n",
    "\n",
    "# Step 5: Display or export\n",
    "print(outlier_data_only)\n",
    "\n",
    "# Optional: Save to CSV\n",
    "# outlier_data_only.to_csv(\"zscore_outliers.csv\", index=False)\n"
   ]
  },
  {
   "cell_type": "markdown",
   "metadata": {},
   "source": [
    "We can see Israe's (RnD Percentage per GDP) is an outlier but after fact checking, it is correct so we are keeping it.\n",
    "\n",
    "That is also the case for Germany as the top High-Tech_Export outlier among these countries so we are keeping it as well."
   ]
  }
 ],
 "metadata": {
  "kernelspec": {
   "display_name": ".venv",
   "language": "python",
   "name": "python3"
  },
  "language_info": {
   "codemirror_mode": {
    "name": "ipython",
    "version": 3
   },
   "file_extension": ".py",
   "mimetype": "text/x-python",
   "name": "python",
   "nbconvert_exporter": "python",
   "pygments_lexer": "ipython3",
   "version": "3.12.0"
  }
 },
 "nbformat": 4,
 "nbformat_minor": 2
}
