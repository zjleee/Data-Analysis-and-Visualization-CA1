{
 "cells": [
  {
   "cell_type": "markdown",
   "id": "e879c7a8",
   "metadata": {},
   "source": [
    "# Step 1: Identify sources of uncertainty in the composite indicator pipeline\n",
    "\n",
    "# 1. List methodological stages\n",
    "stages = [\n",
    "    \"Indicator selection\",        # Which variables are included\n",
    "    \"Missing data imputation\",    # How gaps are filled\n",
    "    \"Normalization method\",       # Z-score vs. Min-Max vs. others\n",
    "    \"Thematic grouping\",          # How indicators map to themes\n",
    "    \"Weighting scheme\",           # Equal vs. custom vs. PCA-based\n",
    "    \"Aggregation method\",         # Arithmetic vs. geometric mean\n",
    "    \"Final scaling\",              # Sigmoid vs. exclusive percentile\n",
    "    \"Outlier treatment\"           # Shifts or caps applied\n",
    "]\n",
    "\n",
    "# 2. Display the list\n",
    "for i, stage in enumerate(stages, 1):\n",
    "    print(f\"{i}. {stage}\")\n"
   ]
  },
  {
   "cell_type": "code",
   "execution_count": 1,
   "id": "efb3974c",
   "metadata": {},
   "outputs": [
    {
     "ename": "NameError",
     "evalue": "name 'epsilon' is not defined",
     "output_type": "error",
     "traceback": [
      "\u001b[31m---------------------------------------------------------------------------\u001b[39m",
      "\u001b[31mNameError\u001b[39m                                 Traceback (most recent call last)",
      "\u001b[36mCell\u001b[39m\u001b[36m \u001b[39m\u001b[32mIn[1]\u001b[39m\u001b[32m, line 48\u001b[39m\n\u001b[32m     46\u001b[39m     raw_adj = \u001b[38;5;28msum\u001b[39m(sub_adj[t] * weights[t] \u001b[38;5;28;01mfor\u001b[39;00m t \u001b[38;5;129;01min\u001b[39;00m groups_adj)\n\u001b[32m     47\u001b[39m     \u001b[38;5;28;01mreturn\u001b[39;00m expit(raw_adj)\n\u001b[32m---> \u001b[39m\u001b[32m48\u001b[39m sig_drop = \u001b[43mcomp_adj\u001b[49m\u001b[43m(\u001b[49m\u001b[43mdf_drop\u001b[49m\u001b[43m)\u001b[49m\n\u001b[32m     49\u001b[39m \u001b[38;5;66;03m# Spearman rank correlation with baseline\u001b[39;00m\n\u001b[32m     50\u001b[39m corr, _ = spearmanr(baseline, sig_drop)\n",
      "\u001b[36mCell\u001b[39m\u001b[36m \u001b[39m\u001b[32mIn[1]\u001b[39m\u001b[32m, line 43\u001b[39m, in \u001b[36mcomp_adj\u001b[39m\u001b[34m(df_in)\u001b[39m\n\u001b[32m     41\u001b[39m \u001b[38;5;28;01mfor\u001b[39;00m theme, cols \u001b[38;5;129;01min\u001b[39;00m groups_adj.items():\n\u001b[32m     42\u001b[39m     block = df_in[cols]\n\u001b[32m---> \u001b[39m\u001b[32m43\u001b[39m     shift = (-block.min()) + \u001b[43mepsilon\u001b[49m\n\u001b[32m     44\u001b[39m     pos = block + shift\n\u001b[32m     45\u001b[39m     sub_adj[theme] = np.exp(np.log(pos).mean(axis=\u001b[32m1\u001b[39m))\n",
      "\u001b[31mNameError\u001b[39m: name 'epsilon' is not defined"
     ]
    }
   ],
   "source": [
    "import pandas as pd\n",
    "import numpy as np\n",
    "from scipy.special import expit\n",
    "from scipy.stats import spearmanr\n",
    "\n",
    "# 1. Load your normalized Z-score data\n",
    "df_z = pd.read_csv(\"tech_adoption_zscore.csv\", index_col=0)\n",
    "\n",
    "# 2. Define thematic groups and equal weights (1/3 each)\n",
    "groups = {\n",
    "    'infrastructure_access': ['Internet_Users_Pct', 'Fixed_Broadband_per_100', 'Mobile_Cellular_per_100'],\n",
    "    'innovation_capability':  ['R&D_Expenditure_Pct_GDP', 'High_Technology_Exports_USD', 'ICT_Graduates_Pct'],\n",
    "    'policy_readiness':       ['Problem_Solving_Tech_Level3_Pct', 'B2C_Index_2020', 'DAI_Business', 'DAI_People', 'DAI_Gov']\n",
    "}\n",
    "weights = {theme: 1/3 for theme in groups}\n",
    "\n",
    "# 3. Function to compute composite sigmoid index\n",
    "def compute_sigmoid_index(df_norm):\n",
    "    epsilon = 1e-6\n",
    "    sub = {}\n",
    "    for theme, cols in groups.items():\n",
    "        block = df_norm[cols]\n",
    "        shift = (-block.min()) + epsilon\n",
    "        pos = block + shift\n",
    "        sub[theme] = np.exp(np.log(pos).mean(axis=1))\n",
    "    raw = sum(sub[t] * weights[t] for t in groups)\n",
    "    return expit(raw)\n",
    "\n",
    "# 4. Baseline index\n",
    "baseline = compute_sigmoid_index(df_z)\n",
    "\n",
    "# 5. Drop‐one analysis\n",
    "results = []\n",
    "for col in df_z.columns:\n",
    "    df_drop = df_z.drop(columns=[col])                              # remove one variable\n",
    "    # adjust groups by dropping the column\n",
    "    groups_adj = {t: [c for c in cols if c != col] for t, cols in groups.items()}\n",
    "    # compute index on reduced data\n",
    "    def comp_adj(df_in):\n",
    "        sub_adj = {}\n",
    "        for theme, cols in groups_adj.items():\n",
    "            block = df_in[cols]\n",
    "            shift = (-block.min()) + epsilon\n",
    "            pos = block + shift\n",
    "            sub_adj[theme] = np.exp(np.log(pos).mean(axis=1))\n",
    "        raw_adj = sum(sub_adj[t] * weights[t] for t in groups_adj)\n",
    "        return expit(raw_adj)\n",
    "    sig_drop = comp_adj(df_drop)\n",
    "    # Spearman rank correlation with baseline\n",
    "    corr, _ = spearmanr(baseline, sig_drop)\n",
    "    results.append((col, corr))\n",
    "\n",
    "# 6. Collect and display results\n",
    "var_sensitivity = pd.DataFrame(results, columns=['Variable','Spearman_Corr']).set_index('Variable')\n",
    "print(var_sensitivity.sort_values('Spearman_Corr'))\n"
   ]
  }
 ],
 "metadata": {
  "kernelspec": {
   "display_name": ".venv",
   "language": "python",
   "name": "python3"
  },
  "language_info": {
   "codemirror_mode": {
    "name": "ipython",
    "version": 3
   },
   "file_extension": ".py",
   "mimetype": "text/x-python",
   "name": "python",
   "nbconvert_exporter": "python",
   "pygments_lexer": "ipython3",
   "version": "3.12.0"
  }
 },
 "nbformat": 4,
 "nbformat_minor": 5
}
